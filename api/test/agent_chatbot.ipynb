{
 "cells": [
  {
   "cell_type": "code",
   "execution_count": 1,
   "metadata": {},
   "outputs": [],
   "source": [
    "%%capture --no-stderr\n",
    "%pip install -U langgraph langsmith langchain_anthropic"
   ]
  },
  {
   "cell_type": "code",
   "execution_count": 26,
   "metadata": {},
   "outputs": [
    {
     "name": "stdout",
     "output_type": "stream",
     "text": [
      "Requirement already satisfied: openai in /Users/vihidun/.pyenv/versions/3.10.13/lib/python3.10/site-packages (1.57.2)\n",
      "Requirement already satisfied: jiter<1,>=0.4.0 in /Users/vihidun/.pyenv/versions/3.10.13/lib/python3.10/site-packages (from openai) (0.8.2)\n",
      "Requirement already satisfied: typing-extensions<5,>=4.11 in /Users/vihidun/.pyenv/versions/3.10.13/lib/python3.10/site-packages (from openai) (4.12.2)\n",
      "Requirement already satisfied: tqdm>4 in /Users/vihidun/.pyenv/versions/3.10.13/lib/python3.10/site-packages (from openai) (4.67.1)\n",
      "Requirement already satisfied: sniffio in /Users/vihidun/.pyenv/versions/3.10.13/lib/python3.10/site-packages (from openai) (1.3.1)\n",
      "Requirement already satisfied: distro<2,>=1.7.0 in /Users/vihidun/.pyenv/versions/3.10.13/lib/python3.10/site-packages (from openai) (1.9.0)\n",
      "Requirement already satisfied: anyio<5,>=3.5.0 in /Users/vihidun/.pyenv/versions/3.10.13/lib/python3.10/site-packages (from openai) (4.7.0)\n",
      "Requirement already satisfied: httpx<1,>=0.23.0 in /Users/vihidun/.pyenv/versions/3.10.13/lib/python3.10/site-packages (from openai) (0.28.1)\n",
      "Requirement already satisfied: pydantic<3,>=1.9.0 in /Users/vihidun/.pyenv/versions/3.10.13/lib/python3.10/site-packages (from openai) (2.10.3)\n",
      "Requirement already satisfied: idna>=2.8 in /Users/vihidun/.pyenv/versions/3.10.13/lib/python3.10/site-packages (from anyio<5,>=3.5.0->openai) (2.10)\n",
      "Requirement already satisfied: exceptiongroup>=1.0.2 in /Users/vihidun/.pyenv/versions/3.10.13/lib/python3.10/site-packages (from anyio<5,>=3.5.0->openai) (1.2.2)\n",
      "Requirement already satisfied: certifi in /Users/vihidun/.pyenv/versions/3.10.13/lib/python3.10/site-packages (from httpx<1,>=0.23.0->openai) (2024.7.4)\n",
      "Requirement already satisfied: httpcore==1.* in /Users/vihidun/.pyenv/versions/3.10.13/lib/python3.10/site-packages (from httpx<1,>=0.23.0->openai) (1.0.7)\n",
      "Requirement already satisfied: h11<0.15,>=0.13 in /Users/vihidun/.pyenv/versions/3.10.13/lib/python3.10/site-packages (from httpcore==1.*->httpx<1,>=0.23.0->openai) (0.14.0)\n",
      "Requirement already satisfied: pydantic-core==2.27.1 in /Users/vihidun/.pyenv/versions/3.10.13/lib/python3.10/site-packages (from pydantic<3,>=1.9.0->openai) (2.27.1)\n",
      "Requirement already satisfied: annotated-types>=0.6.0 in /Users/vihidun/.pyenv/versions/3.10.13/lib/python3.10/site-packages (from pydantic<3,>=1.9.0->openai) (0.7.0)\n",
      "\n",
      "\u001b[1m[\u001b[0m\u001b[34;49mnotice\u001b[0m\u001b[1;39;49m]\u001b[0m\u001b[39;49m A new release of pip is available: \u001b[0m\u001b[31;49m23.0.1\u001b[0m\u001b[39;49m -> \u001b[0m\u001b[32;49m24.3.1\u001b[0m\n",
      "\u001b[1m[\u001b[0m\u001b[34;49mnotice\u001b[0m\u001b[1;39;49m]\u001b[0m\u001b[39;49m To update, run: \u001b[0m\u001b[32;49mpip install --upgrade pip\u001b[0m\n",
      "Note: you may need to restart the kernel to use updated packages.\n"
     ]
    }
   ],
   "source": [
    "%pip install openai"
   ]
  },
  {
   "cell_type": "code",
   "execution_count": 3,
   "metadata": {},
   "outputs": [],
   "source": [
    "import getpass\n",
    "import os\n",
    "\n",
    "\n",
    "def _set_env(var: str):\n",
    "    if not os.environ.get(var):\n",
    "        os.environ[var] = getpass.getpass(f\"{var}: \")\n",
    "\n",
    "\n",
    "_set_env(\"ANTHROPIC_API_KEY\")"
   ]
  },
  {
   "cell_type": "code",
   "execution_count": 19,
   "metadata": {},
   "outputs": [],
   "source": [
    "from typing import Annotated\n",
    "\n",
    "from typing_extensions import TypedDict\n",
    "\n",
    "from langgraph.graph import StateGraph, START, END\n",
    "from langgraph.graph.message import add_messages\n",
    "\n",
    "\n",
    "class State(TypedDict):\n",
    "    # Messages have the type \"list\". The `add_messages` function\n",
    "    # in the annotation defines how this state key should be updated\n",
    "    # (in this case, it appends messages to the list, rather than overwriting them)\n",
    "    messages: Annotated[list, add_messages]\n",
    "\n",
    "\n",
    "graph_builder_1 = StateGraph(State)"
   ]
  },
  {
   "cell_type": "code",
   "execution_count": 28,
   "metadata": {},
   "outputs": [],
   "source": [
    "import requests\n",
    "from openai import OpenAI\n",
    "\n",
    "# OpenRouter API integration\n",
    "class OpenRouterModel:\n",
    "    def __init__(self, model_name: str, api_key: str):\n",
    "        self.base_url = \"https://openrouter.ai/api/v1\"\n",
    "        self.model_name = model_name,\n",
    "        self.api_key = api_key\n",
    "\n",
    "\n",
    "    def invoke(self, messages: list):\n",
    "        # Prepare request payload\n",
    "        # payload = {\n",
    "        #     \"model\": self.model_name,\n",
    "        #     \"messages\": messages,\n",
    "        #     \"max_tokens\": 1024,\n",
    "        #     \"temperature\": 0.7\n",
    "        # }\n",
    "\n",
    "        client = OpenAI(\n",
    "            base_url=self.base_url,\n",
    "            api_key=self.api_key,\n",
    "        )\n",
    "\n",
    "        completion = client.chat.completions.create(\n",
    "            model=self.model_name,\n",
    "            messages=messages,\n",
    "        )\n",
    "\n",
    "        # Send request\n",
    "        return completion.choices[0].message.content\n",
    "\n"
   ]
  },
  {
   "cell_type": "code",
   "execution_count": 16,
   "metadata": {},
   "outputs": [],
   "source": [
    "# Initialize OpenRouter model\n",
    "openrouter_model = OpenRouterModel(\n",
    "    model_name=\"microsoft/phi-3-mini-128k-instruct:free\",\n",
    "    api_key=\"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\"  # Replace with your actual OpenRouter API key\n",
    ")"
   ]
  },
  {
   "cell_type": "code",
   "execution_count": 20,
   "metadata": {},
   "outputs": [
    {
     "data": {
      "text/plain": [
       "<langgraph.graph.state.StateGraph at 0x10eb3ada0>"
      ]
     },
     "execution_count": 20,
     "metadata": {},
     "output_type": "execute_result"
    }
   ],
   "source": [
    "# from langchain_anthropic import ChatAnthropic\n",
    "\n",
    "# llm = ChatAnthropic(model=\"claude-3-5-sonnet-20240620\")\n",
    "\n",
    "\n",
    "# def chatbot(state: State):\n",
    "#     return {\"messages\": [llm.invoke(state[\"messages\"])]}\n",
    "# Define chatbot function\n",
    "def chatbot(state: State):\n",
    "    # Invoke the OpenRouter model\n",
    "    response = openrouter_model.invoke(state[\"messages\"])\n",
    "    state[\"messages\"].append({\"role\": \"assistant\", \"content\": response})\n",
    "    return state\n",
    "\n",
    "# The first argument is the unique node name\n",
    "# The second argument is the function or object that will be called whenever\n",
    "# the node is used.\n",
    "graph_builder_1.add_node(\"chatbot\", chatbot)"
   ]
  },
  {
   "cell_type": "code",
   "execution_count": 21,
   "metadata": {},
   "outputs": [
    {
     "data": {
      "text/plain": [
       "<langgraph.graph.state.StateGraph at 0x10eb3ada0>"
      ]
     },
     "execution_count": 21,
     "metadata": {},
     "output_type": "execute_result"
    }
   ],
   "source": [
    "graph_builder_1.add_edge(START, \"chatbot\")"
   ]
  },
  {
   "cell_type": "code",
   "execution_count": 22,
   "metadata": {},
   "outputs": [
    {
     "data": {
      "text/plain": [
       "<langgraph.graph.state.StateGraph at 0x10eb3ada0>"
      ]
     },
     "execution_count": 22,
     "metadata": {},
     "output_type": "execute_result"
    }
   ],
   "source": [
    "graph_builder_1.add_edge(\"chatbot\", END)"
   ]
  },
  {
   "cell_type": "code",
   "execution_count": 23,
   "metadata": {},
   "outputs": [],
   "source": [
    "graph = graph_builder_1.compile()"
   ]
  },
  {
   "cell_type": "code",
   "execution_count": 24,
   "metadata": {},
   "outputs": [
    {
     "data": {
      "image/png": "[encoded data removed]",
      "text/plain": [
       "<IPython.core.display.Image object>"
      ]
     },
     "metadata": {},
     "output_type": "display_data"
    }
   ],
   "source": [
    "from IPython.display import Image, display\n",
    "\n",
    "try:\n",
    "    display(Image(graph.get_graph().draw_mermaid_png()))\n",
    "except Exception:\n",
    "    # This requires some extra dependencies and is optional\n",
    "    pass"
   ]
  },
  {
   "cell_type": "code",
   "execution_count": 29,
   "metadata": {},
   "outputs": [
    {
     "name": "stdout",
     "output_type": "stream",
     "text": [
      "Assistant: I'm happy to chat with you! However, I don't see a specific question or topic you'd like to discuss. Would you like to:\n",
      "\n",
      "1. Ask a question?\n",
      "2. Share your thoughts or feelings about something?\n",
      "3. Discuss a particular topic, such as a hobby, movie, or book?\n",
      "4. Play a game or engage in a fun conversation?\n",
      "\n",
      "Let me know, and I'll do my best to assist you!\n",
      "Assistant: LangGraph! LangGraph is a fascinating open-source project that has gained significant attention in the natural language processing (NLP) and artificial intelligence (AI) communities. From what I know, LangGraph is a large-scale, multilingual language model that aims to integrate multiple language understanding and generation capabilities into a single, unified graph-based framework.\n",
      "\n",
      "Here are some key features and advantages of LangGraph:\n",
      "\n",
      "1. **Multilingual capability**: LangGraph supports over 100 languages, making it a powerful tool for cross-lingual language understanding and generation tasks.\n",
      "2. **Graph-based architecture**: LangGraph represents language as a graph, where nodes and edges symbolize linguistic elements, such as words, phrases, and dependencies. This architecture enables more efficient and flexible processing of complex language structures.\n",
      "3. **Integrated language understanding and generation**: LangGraph combines both language understanding (e.g., question answering, sentiment analysis) and generation (e.g., text summarization, language translation) capabilities in a single model.\n",
      "4. **Scalability and adaptability**: LangGraph's graph-based architecture allows it to scale more efficiently than traditional sequence-based models, making it suitable for large-scale NLP applications.\n",
      "5. **Open-source and community-driven**: LangGraph is open-source, which enables researchers and developers to contribute to its development, experiment with new ideas, and apply it to various use cases.\n",
      "\n",
      "Some potential applications of LangGraph include:\n",
      "\n",
      "1. **Multilingual chatbots and conversational AI**: LangGraph can enable chatbots to understand and respond to user queries in multiple languages, facilitating more effective cross-cultural communication.\n",
      "2. **Cross-lingual language translation and localization**: LangGraph's multilingual capability makes it suitable for large-scale language translation and localization tasks, such as translating websites, documents, or subtitles.\n",
      "3. **Language understanding and sentiment analysis**: LangGraph can be used for sentiment analysis, question answering, and other language understanding tasks across multiple languages and domains.\n",
      "\n",
      "While LangGraph is still an emerging technology, its potential to revolutionize the field of NLP and AI is substantial. I'm excited to see how researchers and developers will continue to build upon and apply LangGraph in the future!\n",
      "\n",
      "Do you have any specific questions about LangGraph or its applications?\n"
     ]
    }
   ],
   "source": [
    "def stream_graph_updates(user_input: str):\n",
    "    for event in graph.stream({\n",
    "        \"messages\": [{\"role\": \"user\", \"content\": user_input}]\n",
    "    }):\n",
    "        for value in event.values():\n",
    "            print(\"Assistant:\", value[\"messages\"][-1][\"content\"])\n",
    "\n",
    "\n",
    "while True:\n",
    "    try:\n",
    "        user_input = input(\"User: \")\n",
    "        if user_input.lower() in [\"quit\", \"exit\", \"q\"]:\n",
    "            print(\"Goodbye!\")\n",
    "            break\n",
    "\n",
    "        stream_graph_updates(user_input)\n",
    "    except:\n",
    "        # fallback if input() is not available\n",
    "        user_input = \"What do you know about LangGraph?\"\n",
    "        print(\"User: \" + user_input)\n",
    "        stream_graph_updates(user_input)\n",
    "        break"
   ]
  },
  {
   "cell_type": "markdown",
   "metadata": {},
   "source": [
    "## New Graph"
   ]
  },
  {
   "cell_type": "code",
   "execution_count": 6,
   "metadata": {},
   "outputs": [
    {
     "name": "stdout",
     "output_type": "stream",
     "text": [
      "Collecting openai\n",
      "  Downloading openai-1.57.2-py3-none-any.whl (389 kB)\n",
      "\u001b[2K     \u001b[90m━━━━━━━━━━━━━━━━━━━━━━━━━━━━━━━━━━━━━\u001b[0m \u001b[32m389.9/389.9 kB\u001b[0m \u001b[31m383.3 kB/s\u001b[0m eta \u001b[36m0:00:00\u001b[0ma \u001b[36m0:00:01\u001b[0m\n",
      "\u001b[?25hRequirement already satisfied: pydantic<3,>=1.9.0 in /Users/vihidun/.pyenv/versions/3.10.13/lib/python3.10/site-packages (from openai) (2.10.3)\n",
      "Requirement already satisfied: jiter<1,>=0.4.0 in /Users/vihidun/.pyenv/versions/3.10.13/lib/python3.10/site-packages (from openai) (0.8.2)\n",
      "Requirement already satisfied: distro<2,>=1.7.0 in /Users/vihidun/.pyenv/versions/3.10.13/lib/python3.10/site-packages (from openai) (1.9.0)\n",
      "Requirement already satisfied: httpx<1,>=0.23.0 in /Users/vihidun/.pyenv/versions/3.10.13/lib/python3.10/site-packages (from openai) (0.28.1)\n",
      "Requirement already satisfied: anyio<5,>=3.5.0 in /Users/vihidun/.pyenv/versions/3.10.13/lib/python3.10/site-packages (from openai) (4.7.0)\n",
      "Requirement already satisfied: tqdm>4 in /Users/vihidun/.pyenv/versions/3.10.13/lib/python3.10/site-packages (from openai) (4.67.1)\n",
      "Requirement already satisfied: typing-extensions<5,>=4.11 in /Users/vihidun/.pyenv/versions/3.10.13/lib/python3.10/site-packages (from openai) (4.12.2)\n",
      "Requirement already satisfied: sniffio in /Users/vihidun/.pyenv/versions/3.10.13/lib/python3.10/site-packages (from openai) (1.3.1)\n",
      "Requirement already satisfied: idna>=2.8 in /Users/vihidun/.pyenv/versions/3.10.13/lib/python3.10/site-packages (from anyio<5,>=3.5.0->openai) (2.10)\n",
      "Requirement already satisfied: exceptiongroup>=1.0.2 in /Users/vihidun/.pyenv/versions/3.10.13/lib/python3.10/site-packages (from anyio<5,>=3.5.0->openai) (1.2.2)\n",
      "Requirement already satisfied: certifi in /Users/vihidun/.pyenv/versions/3.10.13/lib/python3.10/site-packages (from httpx<1,>=0.23.0->openai) (2024.7.4)\n",
      "Requirement already satisfied: httpcore==1.* in /Users/vihidun/.pyenv/versions/3.10.13/lib/python3.10/site-packages (from httpx<1,>=0.23.0->openai) (1.0.7)\n",
      "Requirement already satisfied: h11<0.15,>=0.13 in /Users/vihidun/.pyenv/versions/3.10.13/lib/python3.10/site-packages (from httpcore==1.*->httpx<1,>=0.23.0->openai) (0.14.0)\n",
      "Requirement already satisfied: annotated-types>=0.6.0 in /Users/vihidun/.pyenv/versions/3.10.13/lib/python3.10/site-packages (from pydantic<3,>=1.9.0->openai) (0.7.0)\n",
      "Requirement already satisfied: pydantic-core==2.27.1 in /Users/vihidun/.pyenv/versions/3.10.13/lib/python3.10/site-packages (from pydantic<3,>=1.9.0->openai) (2.27.1)\n",
      "Installing collected packages: openai\n",
      "Successfully installed openai-1.57.2\n",
      "\n",
      "\u001b[1m[\u001b[0m\u001b[34;49mnotice\u001b[0m\u001b[1;39;49m]\u001b[0m\u001b[39;49m A new release of pip is available: \u001b[0m\u001b[31;49m23.0.1\u001b[0m\u001b[39;49m -> \u001b[0m\u001b[32;49m24.3.1\u001b[0m\n",
      "\u001b[1m[\u001b[0m\u001b[34;49mnotice\u001b[0m\u001b[1;39;49m]\u001b[0m\u001b[39;49m To update, run: \u001b[0m\u001b[32;49mpip install --upgrade pip\u001b[0m\n",
      "Note: you may need to restart the kernel to use updated packages.\n"
     ]
    }
   ],
   "source": [
    "%pip install openai "
   ]
  },
  {
   "cell_type": "code",
   "execution_count": 1,
   "metadata": {},
   "outputs": [
    {
     "name": "stdout",
     "output_type": "stream",
     "text": [
      " The meaning of life is a question that has intrigued philosophers, theologians, scientists, and countless individuals throughout human history. It is inherently a subjective question, with answers varying significantly based on personal beliefs, cultural values, philosophical viewpoints, and religious teachings. Broadly speaking, various interpretations of the meaning of life include:\n",
      "\n",
      "\n",
      "1. **Biological Perspective**: From a biological standpoint, one could argue that the meaning of life could lie in the continuation of species and genetic code through procreation, which ensures the survival and evolution of one's lineage.\n",
      "\n",
      "\n",
      "2. **Existential View**: Existentialists suggest that life inherently has no predefined meaning, but individuals can create their own meaning through their choices, actions, and commitments.\n",
      "\n",
      "\n",
      "3. **Philosophical Inquiry**: Immanuel Kant proposed pursuing knowledge and happiness as the ultimate purposes of human life. In his view, ethical living guided by reason and autonomy conveys the meaning.\n",
      "\n",
      "\n",
      "4. **Religious Beliefs**: Many religions posit that life's meaning is found in living according to divine laws and principles, striving for spiritual enlightenment, performing good deeds, or achieving a favorable afterlife.\n",
      "\n",
      "\n",
      "5. **Psychological Theory**: Carl Jung, for instance, believed that the meaning of life could be discovered through the individuation process, which is the journey toward wholeness and the realization of one's full potential.\n",
      "\n",
      "\n",
      "Ultimately, the meaning of life may require deep self-reflection, learning, and experiences with others, as well as an appreciation for the complexity and diversity of human perspectives.\n"
     ]
    }
   ],
   "source": [
    "from openai import OpenAI\n",
    "\n",
    "client = OpenAI(\n",
    "  base_url=\"https://openrouter.ai/api/v1\",\n",
    "  api_key=\"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\",\n",
    ")\n",
    "\n",
    "completion = client.chat.completions.create(\n",
    "  model=\"microsoft/phi-3-mini-128k-instruct:free\",\n",
    "  messages=[\n",
    "    {\n",
    "      \"role\": \"user\",\n",
    "      \"content\": \"What is the meaning of life?\"\n",
    "    }\n",
    "  ]\n",
    ")\n",
    "print(completion.choices[0].message.content)"
   ]
  },
  {
   "cell_type": "code",
   "execution_count": 2,
   "metadata": {},
   "outputs": [],
   "source": [
    "from openai import OpenAI\n",
    "\n",
    "client = OpenAI(\n",
    "  base_url=\"https://openrouter.ai/api/v1\",\n",
    "  api_key=\"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\",\n",
    ")\n",
    "\n",
    "def generate_response(prompt):\n",
    "    completion = client.chat.completions.create(\n",
    "        model=\"google/gemini-2.0-flash-exp:free\",\n",
    "        messages=[\n",
    "            {\n",
    "                \"role\": \"user\",\n",
    "                \"content\": prompt\n",
    "            }\n",
    "        ]\n",
    "    )\n",
    "    return completion.choices[0].message.content\n",
    "\n",
    "\n",
    "\n"
   ]
  },
  {
   "cell_type": "code",
   "execution_count": 3,
   "metadata": {},
   "outputs": [],
   "source": [
    "from openai import OpenAI\n",
    "\n",
    "client_mistral = OpenAI(\n",
    "  base_url=\"https://openrouter.ai/api/v1\",\n",
    "  api_key=\"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\",\n",
    ")\n",
    "\n",
    "def generate_response_mistral(prompt):\n",
    "    completion = client_mistral.chat.completions.create(\n",
    "        model=\"mistralai/mistral-7b-instruct:free\",\n",
    "        messages=[\n",
    "            {\n",
    "                \"role\": \"user\",\n",
    "                \"content\": prompt\n",
    "            }\n",
    "        ]\n",
    "    )\n",
    "    return completion.choices[0].message.content"
   ]
  },
  {
   "cell_type": "code",
   "execution_count": 4,
   "metadata": {},
   "outputs": [],
   "source": [
    "from openai import OpenAI\n",
    "\n",
    "client_phi = OpenAI(\n",
    "  base_url=\"https://openrouter.ai/api/v1\",\n",
    "  api_key=\"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\",\n",
    ")\n",
    "\n",
    "def generate_response_phi(prompt):\n",
    "    completion = client_phi.chat.completions.create(\n",
    "        model=\"microsoft/phi-3-medium-128k-instruct:free\",\n",
    "        messages=[\n",
    "            {\n",
    "                \"role\": \"user\",\n",
    "                \"content\": prompt\n",
    "            }\n",
    "        ]\n",
    "    )\n",
    "    return completion.choices[0].message.content"
   ]
  },
  {
   "cell_type": "code",
   "execution_count": 5,
   "metadata": {},
   "outputs": [],
   "source": [
    "from openai import OpenAI\n",
    "\n",
    "client_learnlm = OpenAI(\n",
    "  base_url=\"https://openrouter.ai/api/v1\",\n",
    "  api_key=\"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\",\n",
    ")\n",
    "\n",
    "def generate_response_learnlm(prompt):\n",
    "    completion = client_learnlm.chat.completions.create(\n",
    "        model=\"google/learnlm-1.5-pro-experimental:free\",\n",
    "        messages=[\n",
    "            {\n",
    "                \"role\": \"user\",\n",
    "                \"content\": prompt\n",
    "            }\n",
    "        ]\n",
    "    )\n",
    "    return completion.choices[0].message.content"
   ]
  },
  {
   "cell_type": "code",
   "execution_count": 11,
   "metadata": {},
   "outputs": [],
   "source": [
    "import json\n",
    "\n",
    "def generate_followup_question(student_question):\n",
    "    prompt = (\n",
    "        \"\"\"You are a Socratic tutor. This is the student question: '{student_question}'.\n",
    "Please generate **an appropriate number of follow-up questions**, each with an expected answer, to guide the student to the correct answer.\n",
    "Only generate the number of questions and answers that are necessary, up to a maximum of 10.\n",
    "If fewer questions are sufficient, stop at the appropriate point.\n",
    "\n",
    "Output the follow-up questions and their expected answers in **valid JSON format** like this:\n",
    "\n",
    "{{\n",
    "    \"questions_and_answers\": [\n",
    "        {{\"question\": \"What is the first step in solving the equation?\",\n",
    "          \"answer\": \"Isolate the variable by subtracting 3 from both sides.\"}},\n",
    "        {{\"question\": \"Can you identify the terms?\",\n",
    "          \"answer\": \"The terms are 2x and 3 on the left side of the equation.\"}},\n",
    "        ...\n",
    "    ]\n",
    "}}\n",
    "\n",
    "Ensure the output is **valid JSON**, not truncated, and contains an appropriate number of questions and their corresponding expected answers, based on the complexity of the student's question.\"\"\"\n",
    "    ).format(student_question=student_question)\n",
    "\n",
    "    input_text = generate_response(prompt)\n",
    "\n",
    "    # Extract only the JSON part (everything between the curly braces)\n",
    "    start_index = input_text.find('{')\n",
    "    end_index = input_text.rfind('}') + 1\n",
    "\n",
    "    json_text = input_text[start_index:end_index]\n",
    "\n",
    "    # Convert the extracted JSON string to a Python dictionary\n",
    "    try:\n",
    "        json_object = json.loads(json_text)\n",
    "        return(json_object)\n",
    "    except json.JSONDecodeError as e:\n",
    "        return(f\"Error parsing JSON: {e}\")\n",
    "     \n",
    "\n",
    "\n"
   ]
  },
  {
   "cell_type": "code",
   "execution_count": 13,
   "metadata": {},
   "outputs": [],
   "source": [
    "followup_qa = generate_followup_question(\"It has been estimated that it will take 10 men 6 days to complete a certain task. Find the number of days it will take 8 men to complete a job which is double that task.\")"
   ]
  },
  {
   "cell_type": "code",
   "execution_count": 14,
   "metadata": {},
   "outputs": [
    {
     "name": "stdout",
     "output_type": "stream",
     "text": [
      "{'questions_and_answers': [{'question': 'If 10 men take 6 days to complete a task, how many man-days are required to complete the task?', 'answer': '10 men * 6 days = 60 man-days'}, {'question': 'The new job is double the original task. How many man-days are required for the new job?', 'answer': '60 man-days * 2 = 120 man-days'}, {'question': 'If 8 men are working on the new task, and the new task requires 120 man-days, how many days will the work take?', 'answer': '120 man-days / 8 men = 15 days'}]}\n"
     ]
    }
   ],
   "source": [
    "print(followup_qa)"
   ]
  },
  {
   "cell_type": "code",
   "execution_count": 11,
   "metadata": {},
   "outputs": [],
   "source": [
    "questions_and_answers = followup_qa[\"questions_and_answers\"]\n"
   ]
  },
  {
   "cell_type": "code",
   "execution_count": 12,
   "metadata": {},
   "outputs": [
    {
     "name": "stdout",
     "output_type": "stream",
     "text": [
      "[{'question': \"In the equation 2x + 3 = 5, what is our goal when we are 'solving for x'?\", 'answer': 'To get x by itself on one side of the equation.'}, {'question': \"What operation is currently being performed on the 'x' term that makes it not alone?\", 'answer': 'There is multiplication by 2 and addition of 3 occurring.'}, {'question': \"Which operation (+ or *) should we 'undo' first? Remember, we think about this in reverse order as normal algebraic evaluation. \", 'answer': \"We should 'undo' the addition by subtracting 3 first.\"}, {'question': 'If you subtract 3 from the left side of the equation, what must you also do to the right of the equals sign to keep the equation balanced?', 'answer': 'You must also subtract 3 from the right side.'}, {'question': 'After subtracting 3 from both sides, what is the new equation?', 'answer': '2x = 2'}, {'question': \"What operation is now being performed on 'x'?\", 'answer': 'Multiplication by 2 is occurring.'}, {'question': \"How would we 'undo' multiplication by 2?\", 'answer': 'We would divide by 2.'}, {'question': 'If you divide the left side by 2, what also needs to occur on the right side of the equation?', 'answer': 'You must also divide the right side by 2.'}, {'question': 'What is the final solution for x?', 'answer': 'x = 1'}]\n"
     ]
    }
   ],
   "source": [
    "print(questions_and_answers)"
   ]
  },
  {
   "cell_type": "code",
   "execution_count": 35,
   "metadata": {},
   "outputs": [],
   "source": [
    "# for item in questions_and_answers:\n",
    "#         question = item.get(\"question\")\n",
    "#         expected_answer = item.get(\"answer\")\n",
    "\n",
    "#         print(\"Question:\", question)\n",
    "#         print(\"Expected Answer:\", expected_answer)\n",
    "#         print(\"--------------------------------\")\n",
    "        "
   ]
  },
  {
   "cell_type": "code",
   "execution_count": 34,
   "metadata": {},
   "outputs": [],
   "source": [
    "# for item in questions_and_answers:\n",
    "#         question = item.get(\"question\")\n",
    "#         expected_answer = item.get(\"answer\")\n",
    "\n",
    "#         if not question or not expected_answer:\n",
    "#             print(\"Invalid question-answer pair. Skipping.\")\n",
    "#             continue\n",
    "\n",
    "#         # Ask the question in a tutor tone\n",
    "#         # tutor_question = ask_question_in_tutor_tone(question)\n",
    "#         print(\"Follow-up Question:\", question)\n",
    "#         print(\"Expected Answer:\", expected_answer)\n",
    "#         print(\"--------------------------------\")"
   ]
  },
  {
   "cell_type": "code",
   "execution_count": 7,
   "metadata": {},
   "outputs": [],
   "source": [
    "import json\n",
    "\n",
    "def check_answer_prompt(question, expected_answer, user_answer):\n",
    "    prompt = (\n",
    "        \"\"\"\n",
    "        You are an AI that checks answers for correctness.\n",
    "\n",
    "        - The question is: \"{question}\"\n",
    "        - The expected answer is: \"{expected_answer}\"\n",
    "        - The user's answer is: \"{user_answer}\"\n",
    "\n",
    "        Based on the user's answer compared to the expected answer, determine if the user's answer is **correct** or **incorrect**.\n",
    "\n",
    "        Output only in valid JSON format like this:\n",
    "\n",
    "        {{\n",
    "            \"result\": \"correct\"  # or \"incorrect\"\n",
    "        }}\n",
    "        \"\"\"\n",
    "    ).format(question=question, expected_answer=expected_answer, user_answer=user_answer)\n",
    "    response = generate_response_mistral(prompt)\n",
    "\n",
    "    input_text = response\n",
    "    # Extract only the JSON part (everything between the curly braces)\n",
    "    start_index = input_text.find('{')\n",
    "    end_index = input_text.rfind('}') + 1\n",
    "\n",
    "    json_text = input_text[start_index:end_index]\n",
    "\n",
    "    # Convert the extracted JSON string to a Python dictionary\n",
    "    try:\n",
    "        json_object = json.loads(json_text)\n",
    "        print(json_object)\n",
    "        return(json_object)\n",
    "    except json.JSONDecodeError as e:\n",
    "        return(f\"Error parsing JSON: {e}\")\n",
    "\n"
   ]
  },
  {
   "cell_type": "code",
   "execution_count": 8,
   "metadata": {},
   "outputs": [],
   "source": [
    "def ask_question_in_tutor_tone(question):\n",
    "    prompt = (\n",
    "        \"\"\"\n",
    "You are a helpful tutor. Ask the following question in a concise, teacher-like tone, encouraging them to think critically but keeping the question short:\n",
    "\n",
    "The question is: \"{question}\"\n",
    "\n",
    "Make sure the phrasing is supportive, but the question is brief and to the point.\n",
    "\"\"\"\n",
    "    ).format(question=question)\n",
    "    return generate_response_phi(prompt)"
   ]
  },
  {
   "cell_type": "code",
   "execution_count": 33,
   "metadata": {},
   "outputs": [],
   "source": [
    "    # for item in questions_and_answers:\n",
    "    #     question = item.get(\"question\")\n",
    "    #     expected_answer = item.get(\"answer\")\n",
    "\n",
    "    #     if not question or not expected_answer:\n",
    "    #         print(\"Invalid question-answer pair. Skipping.\")\n",
    "    #         continue\n",
    "\n",
    "    #     # Ask the question in a tutor tone\n",
    "    #     # tutor_question = ask_question_in_tutor_tone(question)\n",
    "    #     print(\"Follow-up Question:\", question)\n",
    "    #     print(\"Expected Answer:\", expected_answer)\n",
    "\n",
    "    #     attempt = 0\n",
    "    #     while attempt < 3:\n",
    "    #         user_answer = input(\"Your Answer: \")\n",
    "    #         print(user_answer)\n",
    "    #         # Check answer correctness\n",
    "    #         result = check_answer_prompt(question, expected_answer, user_answer)\n",
    "    #         if isinstance(result, str):\n",
    "    #             print(\"Error in checking answer:\", result)\n",
    "    #             break\n",
    "\n",
    "    #         is_correct = result.get(\"result\") == \"correct\"\n",
    "    #         print(\"is_correct:\", is_correct)\n",
    "            "
   ]
  },
  {
   "cell_type": "code",
   "execution_count": 9,
   "metadata": {},
   "outputs": [],
   "source": [
    "def tutor_with_guidance(correct_answer, student_answer):\n",
    "    prompt = (\n",
    "        \"\"\"\n",
    "    The correct answer is: '{correct_answer}'. The student's answer is: '{student_answer} which is incorrect'.\n",
    "\n",
    "    Based on the student's answer and its correctness, provide steps to get the correct answer.\n",
    "\n",
    "    Use a friendly, encouraging tone in your responses. Make sure to keep your response in short.\n",
    "    \"\"\"\n",
    "    ).format(question=question, correct_answer=correct_answer, student_answer=student_answer)\n",
    "    return generate_response_learnlm(prompt)\n"
   ]
  },
  {
   "cell_type": "code",
   "execution_count": 16,
   "metadata": {},
   "outputs": [
    {
     "name": "stdout",
     "output_type": "stream",
     "text": [
      "It has been estimated that it will take 10 men 6 days to complete a certain task. Find the number of days it will take 8 men to complete a job which is double that task.\n",
      "Student Question: It has been estimated that it will take 10 men 6 days to complete a certain task. Find the number of days it will take 8 men to complete a job which is double that task.\n"
     ]
    },
    {
     "ename": "TypeError",
     "evalue": "'NoneType' object is not subscriptable",
     "output_type": "error",
     "traceback": [
      "\u001b[0;31m---------------------------------------------------------------------------\u001b[0m",
      "\u001b[0;31mTypeError\u001b[0m                                 Traceback (most recent call last)",
      "Cell \u001b[0;32mIn[16], line 59\u001b[0m\n\u001b[1;32m     55\u001b[0m     \u001b[38;5;28mprint\u001b[39m(\u001b[38;5;124m\"\u001b[39m\u001b[38;5;124mGoodbye!\u001b[39m\u001b[38;5;124m\"\u001b[39m)\n\u001b[1;32m     58\u001b[0m \u001b[38;5;28mprint\u001b[39m(student_question)\n\u001b[0;32m---> 59\u001b[0m \u001b[43msocratic_tutor\u001b[49m\u001b[43m(\u001b[49m\u001b[43mstudent_question\u001b[49m\u001b[43m)\u001b[49m\n",
      "Cell \u001b[0;32mIn[16], line 5\u001b[0m, in \u001b[0;36msocratic_tutor\u001b[0;34m(student_question)\u001b[0m\n\u001b[1;32m      2\u001b[0m \u001b[38;5;28mprint\u001b[39m(\u001b[38;5;124m\"\u001b[39m\u001b[38;5;124mStudent Question:\u001b[39m\u001b[38;5;124m\"\u001b[39m, student_question)\n\u001b[1;32m      4\u001b[0m \u001b[38;5;66;03m# Generate follow-up questions and expected answers\u001b[39;00m\n\u001b[0;32m----> 5\u001b[0m followup_qa \u001b[38;5;241m=\u001b[39m \u001b[43mgenerate_followup_question\u001b[49m\u001b[43m(\u001b[49m\u001b[43mstudent_question\u001b[49m\u001b[43m)\u001b[49m\n\u001b[1;32m      6\u001b[0m \u001b[38;5;28;01mif\u001b[39;00m \u001b[38;5;28misinstance\u001b[39m(followup_qa, \u001b[38;5;28mstr\u001b[39m):\n\u001b[1;32m      7\u001b[0m     \u001b[38;5;28mprint\u001b[39m(\u001b[38;5;124m\"\u001b[39m\u001b[38;5;124mError in generating follow-up questions:\u001b[39m\u001b[38;5;124m\"\u001b[39m, followup_qa)\n",
      "Cell \u001b[0;32mIn[11], line 25\u001b[0m, in \u001b[0;36mgenerate_followup_question\u001b[0;34m(student_question)\u001b[0m\n\u001b[1;32m      3\u001b[0m \u001b[38;5;28;01mdef\u001b[39;00m \u001b[38;5;21mgenerate_followup_question\u001b[39m(student_question):\n\u001b[1;32m      4\u001b[0m     prompt \u001b[38;5;241m=\u001b[39m (\n\u001b[1;32m      5\u001b[0m \u001b[38;5;250m        \u001b[39m\u001b[38;5;124;03m\"\"\"You are a Socratic tutor. This is the student question: '{student_question}'.\u001b[39;00m\n\u001b[1;32m      6\u001b[0m \u001b[38;5;124;03mPlease generate **an appropriate number of follow-up questions**, each with an expected answer, to guide the student to the correct answer.\u001b[39;00m\n\u001b[0;32m   (...)\u001b[0m\n\u001b[1;32m     22\u001b[0m \u001b[38;5;124;03mEnsure the output is **valid JSON**, not truncated, and contains an appropriate number of questions and their corresponding expected answers, based on the complexity of the student's question.\"\"\"\u001b[39;00m\n\u001b[1;32m     23\u001b[0m     )\u001b[38;5;241m.\u001b[39mformat(student_question\u001b[38;5;241m=\u001b[39mstudent_question)\n\u001b[0;32m---> 25\u001b[0m     input_text \u001b[38;5;241m=\u001b[39m \u001b[43mgenerate_response\u001b[49m\u001b[43m(\u001b[49m\u001b[43mprompt\u001b[49m\u001b[43m)\u001b[49m\n\u001b[1;32m     27\u001b[0m     \u001b[38;5;66;03m# Extract only the JSON part (everything between the curly braces)\u001b[39;00m\n\u001b[1;32m     28\u001b[0m     start_index \u001b[38;5;241m=\u001b[39m input_text\u001b[38;5;241m.\u001b[39mfind(\u001b[38;5;124m'\u001b[39m\u001b[38;5;124m{\u001b[39m\u001b[38;5;124m'\u001b[39m)\n",
      "Cell \u001b[0;32mIn[2], line 18\u001b[0m, in \u001b[0;36mgenerate_response\u001b[0;34m(prompt)\u001b[0m\n\u001b[1;32m      8\u001b[0m \u001b[38;5;28;01mdef\u001b[39;00m \u001b[38;5;21mgenerate_response\u001b[39m(prompt):\n\u001b[1;32m      9\u001b[0m     completion \u001b[38;5;241m=\u001b[39m client\u001b[38;5;241m.\u001b[39mchat\u001b[38;5;241m.\u001b[39mcompletions\u001b[38;5;241m.\u001b[39mcreate(\n\u001b[1;32m     10\u001b[0m         model\u001b[38;5;241m=\u001b[39m\u001b[38;5;124m\"\u001b[39m\u001b[38;5;124mgoogle/gemini-2.0-flash-exp:free\u001b[39m\u001b[38;5;124m\"\u001b[39m,\n\u001b[1;32m     11\u001b[0m         messages\u001b[38;5;241m=\u001b[39m[\n\u001b[0;32m   (...)\u001b[0m\n\u001b[1;32m     16\u001b[0m         ]\n\u001b[1;32m     17\u001b[0m     )\n\u001b[0;32m---> 18\u001b[0m     \u001b[38;5;28;01mreturn\u001b[39;00m \u001b[43mcompletion\u001b[49m\u001b[38;5;241;43m.\u001b[39;49m\u001b[43mchoices\u001b[49m\u001b[43m[\u001b[49m\u001b[38;5;241;43m0\u001b[39;49m\u001b[43m]\u001b[49m\u001b[38;5;241m.\u001b[39mmessage\u001b[38;5;241m.\u001b[39mcontent\n",
      "\u001b[0;31mTypeError\u001b[0m: 'NoneType' object is not subscriptable"
     ]
    }
   ],
   "source": [
    "def socratic_tutor(student_question):\n",
    "    print(\"Student Question:\", student_question)\n",
    "\n",
    "    # Generate follow-up questions and expected answers\n",
    "    followup_qa = generate_followup_question(student_question)\n",
    "    if isinstance(followup_qa, str):\n",
    "        print(\"Error in generating follow-up questions:\", followup_qa)\n",
    "        return\n",
    "\n",
    "    questions_and_answers = followup_qa.get(\"questions_and_answers\", [])\n",
    "    print(\"Questions and Answers:\", questions_and_answers)\n",
    "    if not questions_and_answers:\n",
    "        print(\"No follow-up questions generated. Exiting.\")\n",
    "        return\n",
    "\n",
    "    for item in questions_and_answers:\n",
    "        question = item.get(\"question\")\n",
    "        expected_answer = item.get(\"answer\")\n",
    "\n",
    "        if not question or not expected_answer:\n",
    "            print(\"Invalid question-answer pair. Skipping.\")\n",
    "            continue\n",
    "\n",
    "        # Ask the question in a tutor tone\n",
    "        tutor_question = ask_question_in_tutor_tone(question)\n",
    "        print(\"Follow-up Question:\", tutor_question)\n",
    "        print(\"Expected Answer:\", expected_answer)\n",
    "\n",
    "        attempt = 0\n",
    "        while attempt < 3:\n",
    "            user_answer = input(\"Your Answer: \")\n",
    "            print(user_answer)\n",
    "            # Check answer correctness\n",
    "            result = check_answer_prompt(question, expected_answer, user_answer)\n",
    "            if isinstance(result, str):\n",
    "                print(\"Error in checking answer:\", result)\n",
    "                break\n",
    "\n",
    "            is_correct = result.get(\"result\") == \"correct\"\n",
    "            print(\"is_correct:\", is_correct)\n",
    "            if is_correct:\n",
    "                print(\"Correct answer! Moving to the next question.\")\n",
    "                break\n",
    "            else:\n",
    "                attempt += 1\n",
    "                if attempt < 3:\n",
    "                    print(\"Incorrect. Try again.\")\n",
    "                    # print(tutor_with_guidance(question, expected_answer, user_answer))\n",
    "                else:\n",
    "                    print(\"You've used all attempts. The correct answer is:\", expected_answer)\n",
    "\n",
    "if __name__ == \"__main__\":\n",
    "    student_question = input(\"What is your question? \")\n",
    "    if student_question.lower() in [\"quit\", \"exit\", \"q\"]:\n",
    "        print(\"Goodbye!\")\n",
    "        \n",
    "\n",
    "    print(student_question)\n",
    "    socratic_tutor(student_question)\n"
   ]
  },
  {
   "cell_type": "code",
   "execution_count": 18,
   "metadata": {},
   "outputs": [
    {
     "name": "stdout",
     "output_type": "stream",
     "text": [
      "It has been estimated that it will take 10 men 6 days to complete a certain task. Find the number of days it will take 8 men to complete a job which is double that task.\n",
      "Student Question: It has been estimated that it will take 10 men 6 days to complete a certain task. Find the number of days it will take 8 men to complete a job which is double that task.\n",
      "Questions and Answers: [{'question': 'If 10 men take 6 days to complete a task, how many man-days are required for that task?', 'answer': '60 man-days (10 men * 6 days)'}, {'question': 'The new task is double the size of the original. How many man-days are required for the new task?', 'answer': '120 man-days (60 man-days * 2)'}, {'question': 'If you have 8 men and the task requires 120 man-days, how long will it take to complete the task?', 'answer': '15 days (120 man-days / 8 men)'}]\n",
      "Follow-up Question:  Good work so far! Now, consider this: How do you think we can figure out the total man-days needed to finish the task with your thought process.\n",
      "Expected Answer: 60 man-days (10 men * 6 days)\n",
      "50vdays\n",
      "{'result': 'incorrect'}\n",
      "is_correct: False\n"
     ]
    },
    {
     "ename": "NameError",
     "evalue": "name 'question' is not defined",
     "output_type": "error",
     "traceback": [
      "\u001b[0;31m---------------------------------------------------------------------------\u001b[0m",
      "\u001b[0;31mNameError\u001b[0m                                 Traceback (most recent call last)",
      "Cell \u001b[0;32mIn[18], line 59\u001b[0m\n\u001b[1;32m     55\u001b[0m     \u001b[38;5;28mprint\u001b[39m(\u001b[38;5;124m\"\u001b[39m\u001b[38;5;124mGoodbye!\u001b[39m\u001b[38;5;124m\"\u001b[39m)\n\u001b[1;32m     58\u001b[0m \u001b[38;5;28mprint\u001b[39m(student_question)\n\u001b[0;32m---> 59\u001b[0m \u001b[43msocratic_tutor\u001b[49m\u001b[43m(\u001b[49m\u001b[43mstudent_question\u001b[49m\u001b[43m)\u001b[49m\n",
      "Cell \u001b[0;32mIn[18], line 48\u001b[0m, in \u001b[0;36msocratic_tutor\u001b[0;34m(student_question)\u001b[0m\n\u001b[1;32m     45\u001b[0m attempt \u001b[38;5;241m+\u001b[39m\u001b[38;5;241m=\u001b[39m \u001b[38;5;241m1\u001b[39m\n\u001b[1;32m     46\u001b[0m \u001b[38;5;28;01mif\u001b[39;00m attempt \u001b[38;5;241m<\u001b[39m \u001b[38;5;241m3\u001b[39m:\n\u001b[1;32m     47\u001b[0m     \u001b[38;5;66;03m# print(\"Incorrect. Try again.\")\u001b[39;00m\n\u001b[0;32m---> 48\u001b[0m     \u001b[38;5;28mprint\u001b[39m(\u001b[43mtutor_with_guidance\u001b[49m\u001b[43m(\u001b[49m\u001b[43mexpected_answer\u001b[49m\u001b[43m,\u001b[49m\u001b[43m \u001b[49m\u001b[43muser_answer\u001b[49m\u001b[43m)\u001b[49m)\n\u001b[1;32m     49\u001b[0m \u001b[38;5;28;01melse\u001b[39;00m:\n\u001b[1;32m     50\u001b[0m     \u001b[38;5;28mprint\u001b[39m(\u001b[38;5;124m\"\u001b[39m\u001b[38;5;124mYou\u001b[39m\u001b[38;5;124m'\u001b[39m\u001b[38;5;124mve used all attempts. The correct answer is:\u001b[39m\u001b[38;5;124m\"\u001b[39m, expected_answer)\n",
      "Cell \u001b[0;32mIn[9], line 10\u001b[0m, in \u001b[0;36mtutor_with_guidance\u001b[0;34m(correct_answer, student_answer)\u001b[0m\n\u001b[1;32m      1\u001b[0m \u001b[38;5;28;01mdef\u001b[39;00m \u001b[38;5;21mtutor_with_guidance\u001b[39m(correct_answer, student_answer):\n\u001b[1;32m      2\u001b[0m     prompt \u001b[38;5;241m=\u001b[39m (\n\u001b[1;32m      3\u001b[0m \u001b[38;5;250m        \u001b[39m\u001b[38;5;124;03m\"\"\"\u001b[39;00m\n\u001b[1;32m      4\u001b[0m \u001b[38;5;124;03m    The correct answer is: '{correct_answer}'. The student's answer is: '{student_answer} which is incorrect'.\u001b[39;00m\n\u001b[1;32m      5\u001b[0m \n\u001b[1;32m      6\u001b[0m \u001b[38;5;124;03m    Based on the student's answer and its correctness, provide steps to get the correct answer.\u001b[39;00m\n\u001b[1;32m      7\u001b[0m \n\u001b[1;32m      8\u001b[0m \u001b[38;5;124;03m    Use a friendly, encouraging tone in your responses. Make sure to keep your response in short.\u001b[39;00m\n\u001b[1;32m      9\u001b[0m \u001b[38;5;124;03m    \"\"\"\u001b[39;00m\n\u001b[0;32m---> 10\u001b[0m     )\u001b[38;5;241m.\u001b[39mformat(question\u001b[38;5;241m=\u001b[39m\u001b[43mquestion\u001b[49m, correct_answer\u001b[38;5;241m=\u001b[39mcorrect_answer, student_answer\u001b[38;5;241m=\u001b[39mstudent_answer)\n\u001b[1;32m     11\u001b[0m     \u001b[38;5;28;01mreturn\u001b[39;00m generate_response_learnlm(prompt)\n",
      "\u001b[0;31mNameError\u001b[0m: name 'question' is not defined"
     ]
    }
   ],
   "source": [
    "def socratic_tutor(student_question):\n",
    "    print(\"Student Question:\", student_question)\n",
    "\n",
    "    # Generate follow-up questions and expected answers\n",
    "    followup_qa = generate_followup_question(student_question)\n",
    "    if isinstance(followup_qa, str):\n",
    "        print(\"Error in generating follow-up questions:\", followup_qa)\n",
    "        return\n",
    "\n",
    "    questions_and_answers = followup_qa.get(\"questions_and_answers\", [])\n",
    "    print(\"Questions and Answers:\", questions_and_answers)\n",
    "    if not questions_and_answers:\n",
    "        print(\"No follow-up questions generated. Exiting.\")\n",
    "        return\n",
    "\n",
    "    for item in questions_and_answers:\n",
    "        question = item.get(\"question\")\n",
    "        expected_answer = item.get(\"answer\")\n",
    "\n",
    "        if not question or not expected_answer:\n",
    "            print(\"Invalid question-answer pair. Skipping.\")\n",
    "            continue\n",
    "\n",
    "        # Ask the question in a tutor tone\n",
    "        tutor_question = ask_question_in_tutor_tone(question)\n",
    "        print(\"Follow-up Question:\", tutor_question)\n",
    "        print(\"Expected Answer:\", expected_answer)\n",
    "\n",
    "        attempt = 0\n",
    "        while attempt < 3:\n",
    "            user_answer = input(\"Your Answer: \")\n",
    "            print(user_answer)\n",
    "            # Check answer correctness\n",
    "            result = check_answer_prompt(question, expected_answer, user_answer)\n",
    "            if isinstance(result, str):\n",
    "                print(\"Error in checking answer:\", result)\n",
    "                break\n",
    "\n",
    "            is_correct = result.get(\"result\") == \"correct\"\n",
    "            print(\"is_correct:\", is_correct)\n",
    "            if is_correct:\n",
    "                print(\"Correct answer! Moving to the next question.\")\n",
    "                break\n",
    "            else:\n",
    "                attempt += 1\n",
    "                if attempt < 3:\n",
    "                    # print(\"Incorrect. Try again.\")\n",
    "                    print(tutor_with_guidance(expected_answer, user_answer))\n",
    "                else:\n",
    "                    print(\"You've used all attempts. The correct answer is:\", expected_answer)\n",
    "\n",
    "if __name__ == \"__main__\":\n",
    "    student_question = input(\"What is your question? \")\n",
    "    if student_question.lower() in [\"quit\", \"exit\", \"q\"]:\n",
    "        print(\"Goodbye!\")\n",
    "        \n",
    "\n",
    "    print(student_question)\n",
    "    socratic_tutor(student_question)"
   ]
  },
  {
   "cell_type": "code",
   "execution_count": 31,
   "metadata": {},
   "outputs": [
    {
     "name": "stdout",
     "output_type": "stream",
     "text": [
      "Error: 'HumanMessage' object is not subscriptable\n"
     ]
    }
   ],
   "source": [
    "from typing import Annotated\n",
    "from typing_extensions import TypedDict\n",
    "from langgraph.graph import StateGraph, START, END\n",
    "from langgraph.graph.message import add_messages\n",
    "from openai import OpenAI\n",
    "\n",
    "# Define the state\n",
    "class State(TypedDict):\n",
    "    messages: Annotated[list, add_messages]\n",
    "    current_question: str\n",
    "    correct_answer: str\n",
    "    attempts: int\n",
    "\n",
    "graph_builder = StateGraph(State)\n",
    "\n",
    "# OpenRouterModel for LLM interactions\n",
    "class OpenRouterModel:\n",
    "    def __init__(self, model_name: str, api_key: str):\n",
    "        self.base_url = \"https://openrouter.ai/api/v1\"\n",
    "        self.model_name = model_name\n",
    "        self.api_key = api_key\n",
    "        self.client = OpenAI(base_url=self.base_url, api_key=self.api_key)\n",
    "\n",
    "    def invoke(self, messages: list):\n",
    "        completion = self.client.chat.completions.create(\n",
    "            model=self.model_name,\n",
    "            messages=messages,\n",
    "        )\n",
    "        return completion.choices[0].message.content\n",
    "\n",
    "# Initialize OpenRouter model\n",
    "openrouter_model = OpenRouterModel(\n",
    "    model_name=\"microsoft/phi-3-mini-128k-instruct:free\",\n",
    "    api_key=\"sk-your-api-key\"  # Replace with your actual API key\n",
    ")\n",
    "\n",
    "# Functions for the Socratic Tutor\n",
    "def generate_followup(state: State):\n",
    "    prompt = (\n",
    "        f\"The student asked: '{state['messages'][0]['content']}'. Generate a follow-up question, \"\n",
    "        f\"the correct answer, and a Socratic explanation to guide the student.\"\n",
    "    )\n",
    "    response = openrouter_model.invoke([{\"role\": \"system\", \"content\": prompt}])\n",
    "    question, correct_answer, explanation = response.split(\"||\")  # Assuming delimited response\n",
    "    state[\"current_question\"] = question.strip()\n",
    "    state[\"correct_answer\"] = correct_answer.strip()\n",
    "    state[\"attempts\"] = 0\n",
    "    return state\n",
    "\n",
    "def ask_followup(state: State):\n",
    "    state[\"messages\"].append({\"role\": \"assistant\", \"content\": state[\"current_question\"]})\n",
    "    return state\n",
    "\n",
    "def check_answer(state: State):\n",
    "    user_answer = state[\"messages\"][-1][\"content\"]\n",
    "    prompt = (\n",
    "        f\"The follow-up question was: '{state['current_question']}'. The correct answer is \"\n",
    "        f\"'{state['correct_answer']}'. Did the student answer correctly? \"\n",
    "        f\"Student's answer: '{user_answer}'.\"\n",
    "    )\n",
    "    response = openrouter_model.invoke([{\"role\": \"system\", \"content\": prompt}])\n",
    "    return response.lower().strip() == \"yes\"\n",
    "\n",
    "def socratic_guidance(state: State):\n",
    "    user_answer = state[\"messages\"][-1][\"content\"]\n",
    "    prompt = (\n",
    "        f\"The student answered incorrectly to the question: '{state['current_question']}'. \"\n",
    "        f\"Their answer was: '{user_answer}'. Provide Socratic encouragement and guidance to help them.\"\n",
    "    )\n",
    "    response = openrouter_model.invoke([{\"role\": \"system\", \"content\": prompt}])\n",
    "    state[\"messages\"].append({\"role\": \"assistant\", \"content\": response})\n",
    "    return state\n",
    "\n",
    "def socratic_tutor(state: State):\n",
    "    if state[\"attempts\"] >= 3:\n",
    "        state[\"messages\"].append({\n",
    "            \"role\": \"assistant\",\n",
    "            \"content\": f\"The correct answer is: {state['correct_answer']}. Let's move on to the next question.\"\n",
    "        })\n",
    "        return generate_followup(state)\n",
    "\n",
    "    if check_answer(state):\n",
    "        state[\"messages\"].append({\"role\": \"assistant\", \"content\": \"That's correct! Well done.\"})\n",
    "        return generate_followup(state)\n",
    "\n",
    "    state[\"attempts\"] += 1\n",
    "    return socratic_guidance(state)\n",
    "\n",
    "# Graph construction\n",
    "graph_builder.add_node(\"generate_followup\", generate_followup)\n",
    "graph_builder.add_node(\"ask_followup\", ask_followup)\n",
    "graph_builder.add_node(\"socratic_tutor\", socratic_tutor)\n",
    "\n",
    "graph_builder.add_edge(START, \"generate_followup\")\n",
    "graph_builder.add_edge(\"generate_followup\", \"ask_followup\")\n",
    "graph_builder.add_edge(\"ask_followup\", \"socratic_tutor\")\n",
    "graph_builder.add_edge(\"socratic_tutor\", \"ask_followup\")\n",
    "graph_builder.add_edge(\"socratic_tutor\", END)\n",
    "\n",
    "graph = graph_builder.compile()\n",
    "\n",
    "def stream_graph_updates(user_input: str):\n",
    "    for event in graph.stream({\n",
    "        \"messages\": [{\"role\": \"user\", \"content\": user_input}],\n",
    "        \"current_question\": \"\",\n",
    "        \"correct_answer\": \"\",\n",
    "        \"attempts\": 0\n",
    "    }):\n",
    "        for value in event.values():\n",
    "            print(\"Assistant:\", value[\"messages\"][-1][\"content\"])\n",
    "\n",
    "# Run Socratic Tutor\n",
    "while True:\n",
    "    try:\n",
    "        user_input = input(\"Student: \")\n",
    "        if user_input.lower() in [\"quit\", \"exit\", \"q\"]:\n",
    "            print(\"Goodbye!\")\n",
    "            break\n",
    "\n",
    "        stream_graph_updates(user_input)\n",
    "    except Exception as e:\n",
    "        print(\"Error:\", e)\n",
    "        break\n"
   ]
  },
  {
   "cell_type": "code",
   "execution_count": 32,
   "metadata": {},
   "outputs": [
    {
     "data": {
      "image/png": "[encoded data removed]",
      "text/plain": [
       "<IPython.core.display.Image object>"
      ]
     },
     "metadata": {},
     "output_type": "display_data"
    }
   ],
   "source": [
    "from IPython.display import Image, display\n",
    "\n",
    "try:\n",
    "    display(Image(graph.get_graph().draw_mermaid_png()))\n",
    "except Exception:\n",
    "    # This requires some extra dependencies and is optional\n",
    "    pass"
   ]
  }
 ],
 "metadata": {
  "kernelspec": {
   "display_name": "Python 3",
   "language": "python",
   "name": "python3"
  },
  "language_info": {
   "codemirror_mode": {
    "name": "ipython",
    "version": 3
   },
   "file_extension": ".py",
   "mimetype": "text/x-python",
   "name": "python",
   "nbconvert_exporter": "python",
   "pygments_lexer": "ipython3",
   "version": "3.10.13"
  }
 },
 "nbformat": 4,
 "nbformat_minor": 2
}
